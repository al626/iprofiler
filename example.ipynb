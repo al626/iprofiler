{
 "cells": [
  {
   "cell_type": "markdown",
   "metadata": {},
   "source": [
    "### Setup js widget front-end"
   ]
  },
  {
   "cell_type": "code",
   "execution_count": null,
   "metadata": {
    "collapsed": false
   },
   "outputs": [],
   "source": [
    "import notebook.nbextensions\n",
    "notebook.nbextensions.install_nbextension('iprofiler.js', user=True)"
   ]
  },
  {
   "cell_type": "code",
   "execution_count": null,
   "metadata": {
    "collapsed": false
   },
   "outputs": [],
   "source": [
    "%%javascript\n",
    "require([\"base/js/utils\"], function(utils){\n",
    "    utils.load_extensions('iprofiler');\n",
    "});"
   ]
  },
  {
   "cell_type": "markdown",
   "metadata": {},
   "source": [
    "### Some code to profile"
   ]
  },
  {
   "cell_type": "code",
   "execution_count": null,
   "metadata": {
    "collapsed": true
   },
   "outputs": [],
   "source": [
    "import numpy as np\n",
    "\n",
    "def jamie(X):\n",
    "    return np.linalg.eig(X)"
   ]
  },
  {
   "cell_type": "markdown",
   "metadata": {
    "collapsed": false
   },
   "source": [
    "### Setup and perform profiling"
   ]
  },
  {
   "cell_type": "code",
   "execution_count": null,
   "metadata": {
    "collapsed": false
   },
   "outputs": [],
   "source": [
    "import cProfile\n",
    "from line_profiler import LineProfiler\n",
    "\n",
    "cprofiler = cProfile.Profile()\n",
    "lprofiler = LineProfiler()\n",
    "lprofiler.add_function(jamie)\n",
    "lprofiler.add_function(np.linalg.eig)\n",
    "\n",
    "# Perform profiling with both cprofiler and lprofiler\n",
    "cprofiler.enable()\n",
    "lprofiler.enable()\n",
    "jamie(np.ones((500, 500)))\n",
    "lprofiler.disable()\n",
    "cprofiler.disable()\n",
    "\n",
    "lprofile = lprofiler.get_stats()\n",
    "cprofile = cprofiler.getstats()"
   ]
  },
  {
   "cell_type": "markdown",
   "metadata": {},
   "source": [
    "### Instantiate and display the widget"
   ]
  },
  {
   "cell_type": "code",
   "execution_count": null,
   "metadata": {
    "collapsed": false
   },
   "outputs": [],
   "source": [
    "import iprofiler\n",
    "\n",
    "w = iprofiler.IProfile(cprofile, lprofile)\n",
    "w"
   ]
  }
 ],
 "metadata": {
  "kernelspec": {
   "display_name": "Python 2",
   "language": "python",
   "name": "python2"
  },
  "language_info": {
   "codemirror_mode": {
    "name": "ipython",
    "version": 2
   },
   "file_extension": ".py",
   "mimetype": "text/x-python",
   "name": "python",
   "nbconvert_exporter": "python",
   "pygments_lexer": "ipython2",
   "version": "2.7.10"
  }
 },
 "nbformat": 4,
 "nbformat_minor": 0
}
